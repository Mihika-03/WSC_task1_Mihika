{
  "nbformat": 4,
  "nbformat_minor": 0,
  "metadata": {
    "colab": {
      "name": "Task1_WSC.ipynb",
      "provenance": []
    },
    "kernelspec": {
      "name": "python3",
      "display_name": "Python 3"
    },
    "language_info": {
      "name": "python"
    }
  },
  "cells": [
    {
      "cell_type": "code",
      "execution_count": null,
      "metadata": {
        "id": "RVf4gvsP-zQD"
      },
      "outputs": [],
      "source": [
        "n = int(input(\"Please enter the number of trades:\"))\n",
        "b=0\n",
        "c=0\n",
        "for i in range(0,n):\n",
        "  a = input()\n",
        "  if a.lower()== 'long':\n",
        "     b +=1\n",
        "  else: \n",
        "     c+=1\n",
        "\n",
        "print(f\"Long --->{b} and short ---> {c} \")\n",
        "\n",
        "  "
      ]
    }
  ]
}