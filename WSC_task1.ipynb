{
  "nbformat": 4,
  "nbformat_minor": 0,
  "metadata": {
    "colab": {
      "name": "WSC_task1.ipynb",
      "provenance": []
    },
    "kernelspec": {
      "name": "python3",
      "display_name": "Python 3"
    },
    "language_info": {
      "name": "python"
    }
  },
  "cells": [
    {
      "cell_type": "code",
      "execution_count": 11,
      "metadata": {
        "colab": {
          "base_uri": "https://localhost:8080/"
        },
        "id": "wJWc5abeUqm9",
        "outputId": "e9d98373-1d68-4b51-d386-ee582051c6e8"
      },
      "outputs": [
        {
          "output_type": "stream",
          "name": "stdout",
          "text": [
            "Please enter the number of trades:5\n",
            "long\n",
            "short\n",
            "short\n",
            "short\n",
            "short\n",
            "Long --->1 and short ---> 4 \n"
          ]
        }
      ],
      "source": [
        "n = int(input(\"Please enter the number of trades:\"))\n",
        "L = []\n",
        "S = []\n",
        "\n",
        "for i in range(0,n):\n",
        "  a = input()\n",
        "  if a.lower()== 'long':\n",
        "     L.append(a)\n",
        "  else: \n",
        "     S.append(a)\n",
        "\n",
        "print(f\"Long --->{len(L)} and short ---> {len(S)} \")\n",
        "\n",
        "  "
      ]
    }
  ]
}